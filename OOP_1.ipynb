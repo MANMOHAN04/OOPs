{
  "nbformat": 4,
  "nbformat_minor": 0,
  "metadata": {
    "colab": {
      "provenance": [],
      "authorship_tag": "ABX9TyOJbgBwKPyMv0Xlsdb94p/q",
      "include_colab_link": true
    },
    "kernelspec": {
      "name": "python3",
      "display_name": "Python 3"
    },
    "language_info": {
      "name": "python"
    }
  },
  "cells": [
    {
      "cell_type": "markdown",
      "metadata": {
        "id": "view-in-github",
        "colab_type": "text"
      },
      "source": [
        "<a href=\"https://colab.research.google.com/github/MANMOHAN04/OOPs/blob/main/OOP_1.ipynb\" target=\"_parent\"><img src=\"https://colab.research.google.com/assets/colab-badge.svg\" alt=\"Open In Colab\"/></a>"
      ]
    },
    {
      "cell_type": "code",
      "execution_count": null,
      "metadata": {
        "id": "FXBjX90_feTI"
      },
      "outputs": [],
      "source": [
        "#syntax for create an object\n",
        "\n",
        "#objectname = classname()"
      ]
    },
    {
      "cell_type": "code",
      "source": [
        "#pascal Case\n",
        "\n",
        "HelloWorld"
      ],
      "metadata": {
        "id": "1qh12cnngelC"
      },
      "execution_count": null,
      "outputs": []
    },
    {
      "cell_type": "code",
      "source": [
        "#Atm pin & balance\n",
        "class Atm:\n",
        "\n",
        "  # constructor (special function) ->superpower ->\n",
        "  def __init__(self):\n",
        "    self.pin = ''\n",
        "    self.balane = 0\n",
        "    # print('I will execute. ')\n",
        "    self.menu()\n",
        "\n",
        "\n",
        "  def menu(self):\n",
        "    user_input = input(\"\"\"\n",
        "    How can I help you?\n",
        "    1. Press 1 to create pin\n",
        "    2. Press 2 to change pin\n",
        "    3. Press 3 to withdraw\n",
        "    4. Press 4 to Check balance\n",
        "    5. Press 5 to exit\n",
        "    \"\"\")\n",
        "\n",
        "    if user_input =='1':\n",
        "      #create pin\n",
        "      self.create_pin()\n",
        "\n",
        "    elif user_input =='2':\n",
        "      #change pin\n",
        "      self.change_pin()\n",
        "\n",
        "    elif user_input =='3':\n",
        "      #withdraw\n",
        "      self.withdraw()\n",
        "\n",
        "    elif user_input =='4':\n",
        "      #  Check balance\n",
        "      self.Check_balance()\n",
        "    else:\n",
        "      exit()\n",
        "\n",
        "\n",
        "  def create_pin(self):\n",
        "    user_pin =input('enter your pin: ')\n",
        "    self.pin = user_pin\n",
        "\n",
        "    user_balance = int(input('enter your balanc: '))\n",
        "    self.balance = user_balance\n",
        "\n",
        "    print('Pin create successfully:')\n",
        "    self.menu()\n",
        "\n",
        "  def change_pin(self):\n",
        "    old_pin= input('enter your old pin')\n",
        "    if old_pin == self.pin:\n",
        "      new_pin = input('enter your new pin')\n",
        "      self.pin = new_pin\n",
        "      print('pin change sucessfully')\n",
        "      self.menu()\n",
        "    else:\n",
        "      print('you are not able to change the pin')\n",
        "\n",
        "  def withdraw(self):\n",
        "    user_pin=input('enter your pin: ')\n",
        "    if user_pin == self.pin:\n",
        "      amount = int(input('enter your amount: '))\n",
        "      if amount <= self.balance:\n",
        "        self.balance = self.balance - amount\n",
        "        print(\"withdraw sucessfully and reamainig balance is: \",self.balance)\n",
        "      else:\n",
        "        print('insufficient balance: ')\n",
        "    else:\n",
        "     print('first enter correct pin: ')\n",
        "    self.menu()\n",
        "\n",
        "  def Check_balance(self):\n",
        "    user_pin = input('enter your pin: ')\n",
        "    if user_pin == self.pin:\n",
        "      print(\"your balance is: \", self.balance)\n",
        "    else:\n",
        "      print('correct pin for balance check.')\n",
        "    self.menu()\n",
        "\n"
      ],
      "metadata": {
        "id": "z6c0NQzLgnAf"
      },
      "execution_count": null,
      "outputs": []
    },
    {
      "cell_type": "code",
      "source": [
        "obj = Atm()\n",
        "# type(obj)"
      ],
      "metadata": {
        "id": "5wnW7V30imi4"
      },
      "execution_count": null,
      "outputs": []
    },
    {
      "cell_type": "code",
      "source": [],
      "metadata": {
        "id": "9Lw9jGbriw08"
      },
      "execution_count": null,
      "outputs": []
    },
    {
      "cell_type": "code",
      "source": [
        "#Fraction add,sub,mul and truediv\n",
        "class Fraction:\n",
        "\n",
        "  def __init__(self,x,y):\n",
        "    self.num = x\n",
        "    self.den = y\n",
        "\n",
        "  def __str__(self):\n",
        "    return '{}/{}'.format(self.num,self.den)\n",
        "\n",
        "  def __add__(self,other):\n",
        "    new_num = self.num*other.den + other.num*self.den\n",
        "    new_den = self.den*other.den\n",
        "\n",
        "    return '{}/{}'.format(new_num,new_den)\n",
        "\n",
        "\n",
        "  def __sub__(self,other):\n",
        "    new_num = self.num*other.den - other.num*self.den\n",
        "    new_den = self.den*other.den\n",
        "\n",
        "    return '{}/{}'.format(new_num,new_den)\n",
        "\n",
        "  def __mul__(self,other):\n",
        "    new_num = self.num*other.num\n",
        "    new_den = self.den*other.den\n",
        "\n",
        "    return '{}/{}'.format(new_num,new_den)\n",
        "\n",
        "  def __truediv__(self,other):\n",
        "    new_num = self.num*other.den\n",
        "    new_den = self.den*other.num\n",
        "\n",
        "    return '{}/{}'.format(new_num,new_den)\n",
        "\n",
        "\n"
      ],
      "metadata": {
        "id": "FXmuzHepZVZi"
      },
      "execution_count": null,
      "outputs": []
    },
    {
      "cell_type": "code",
      "source": [
        "fr = Fraction(4,3)\n",
        "fr1= Fraction(74,75)"
      ],
      "metadata": {
        "id": "D-49EQGLZ0QX"
      },
      "execution_count": null,
      "outputs": []
    },
    {
      "cell_type": "code",
      "source": [
        "print(fr)\n",
        "print(fr1)"
      ],
      "metadata": {
        "colab": {
          "base_uri": "https://localhost:8080/"
        },
        "id": "KATDWTpEZ-PZ",
        "outputId": "7d523848-1ef1-48bd-c512-e314165ba066"
      },
      "execution_count": null,
      "outputs": [
        {
          "output_type": "stream",
          "name": "stdout",
          "text": [
            "4/3\n",
            "74/75\n"
          ]
        }
      ]
    },
    {
      "cell_type": "code",
      "source": [
        "print(fr+fr1)\n",
        "print(fr-fr1)\n",
        "print(fr*fr1)\n",
        "print(fr/fr1)"
      ],
      "metadata": {
        "colab": {
          "base_uri": "https://localhost:8080/"
        },
        "id": "-AHa2lf8azXz",
        "outputId": "9b9f5c1d-e69b-4a4c-f34d-bf440a4ee89d"
      },
      "execution_count": null,
      "outputs": [
        {
          "output_type": "stream",
          "name": "stdout",
          "text": [
            "522/225\n",
            "78/225\n",
            "296/225\n",
            "300/222\n"
          ]
        }
      ]
    },
    {
      "cell_type": "code",
      "source": [],
      "metadata": {
        "id": "H1xRw40_c7CZ"
      },
      "execution_count": null,
      "outputs": []
    }
  ]
}